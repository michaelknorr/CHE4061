{
  "nbformat": 4,
  "nbformat_minor": 0,
  "metadata": {
    "colab": {
      "provenance": [],
      "authorship_tag": "ABX9TyMvz08c1eyCRCtTQTy00vtd",
      "include_colab_link": true
    },
    "kernelspec": {
      "name": "python3",
      "display_name": "Python 3"
    },
    "language_info": {
      "name": "python"
    }
  },
  "cells": [
    {
      "cell_type": "markdown",
      "metadata": {
        "id": "view-in-github",
        "colab_type": "text"
      },
      "source": [
        "<a href=\"https://colab.research.google.com/github/michaelknorr/CHE4061/blob/main/CHE4061_GT3_Flash_Drum_Analysis.ipynb\" target=\"_parent\"><img src=\"https://colab.research.google.com/assets/colab-badge.svg\" alt=\"Open In Colab\"/></a>"
      ]
    },
    {
      "cell_type": "code",
      "source": [
        "import numpy as np\n",
        "\n",
        "# Inputs\n",
        "phi_0 = float(input(\"Input an initial guess for phi: \")) #phi is the fraction of vapor in the feed\n",
        "num_components = int(input(\"Input the number of streams feeding the flash drum: \"))\n",
        "comp_x = np.array(list(map(float, input(\"Input a list of molar flow rates for each stream (comma-separated): \").split(','))))\n",
        "K = np.array(list(map(float, input(\"Input the K (equilibrium constant) values for each stream in order (comma-separated): \").split(','))))\n"
      ],
      "metadata": {
        "id": "H0ixQWwZeGQB",
        "colab": {
          "base_uri": "https://localhost:8080/"
        },
        "outputId": "0c568e7f-350d-48ca-977a-c85a85d0b58f"
      },
      "execution_count": 2,
      "outputs": [
        {
          "name": "stdout",
          "output_type": "stream",
          "text": [
            "Input an initial guess for phi: 0.3\n",
            "Input the number of streams feeding the flash drum: 2\n",
            "Input a list of molar flow rates for each stream (comma-separated): 30,70\n",
            "Input the K (equilibrium constant) values for each stream in order (comma-separated): 3.2,0.47\n"
          ]
        }
      ]
    },
    {
      "cell_type": "code",
      "execution_count": 3,
      "metadata": {
        "id": "EbgE7sWrYSCs"
      },
      "outputs": [],
      "source": [
        "import numpy as np\n",
        "\n",
        "def Newton_Raphson(phi_0, num_components, comp_x, K, tol=1e-6, max_iter=100, show_table=True):\n",
        "    \"\"\"\n",
        "    Performs Newton-Raphson iteration to find the root of a function.\n",
        "\n",
        "    Parameters:\n",
        "    phi_0 : float\n",
        "        Initial guess for phi.\n",
        "    num_components : int\n",
        "        Number of components.\n",
        "    comp_x : list or numpy array\n",
        "        Mole fractions of components.\n",
        "    K : list or numpy array\n",
        "        Equilibrium constants of components.\n",
        "    tol : float, optional\n",
        "        Convergence tolerance (default is 1e-6).\n",
        "    max_iter : int, optional\n",
        "        Maximum number of iterations (default is 100).\n",
        "    show_table : bool, optional\n",
        "        Whether to print the iteration table (default is True).\n",
        "\n",
        "    Returns:\n",
        "    phi_next : float\n",
        "        Converged phi value.\n",
        "    \"\"\"\n",
        "    phi_current = phi_0\n",
        "\n",
        "    if show_table:\n",
        "        print(f\"{'Iteration':<10}{'Phi':<15}{'f(Phi)':<20}{'f(Phi)':<20}{'Phi_next':<15}{'Error':<15}\")\n",
        "        print(\"-\" * 95)\n",
        "\n",
        "    for iteration in range(max_iter):\n",
        "        f_phi_current = np.sum([(comp_x[i] * (1 - K[i])) / (1 + phi_current * (K[i] - 1)) for i in range(num_components)])\n",
        "        f_phi_next = np.sum([(comp_x[i] * (1 - K[i])**2) / (1 + phi_current * (K[i] - 1))**2 for i in range(num_components)])\n",
        "\n",
        "        phi_next = phi_current - f_phi_current / f_phi_next\n",
        "        error = abs(phi_next - phi_current)\n",
        "\n",
        "        if show_table:\n",
        "            print(f\"{iteration:<10}{phi_current:<15.6f}{f_phi_current:<20.6f}{f_phi_next:<20.6f}{phi_next:<15.6f}{error:<15.6f}\")\n",
        "\n",
        "        if error < tol:\n",
        "            return phi_next  # Converged solution\n",
        "\n",
        "        phi_current = phi_next\n",
        "\n",
        "    raise ValueError(\"Newton-Raphson did not converge within the maximum number of iterations\")\n"
      ]
    },
    {
      "cell_type": "code",
      "source": [
        "Newton_Raphson(phi_0, num_components, comp_x, K) #GT3 Problem 1 Part A Work"
      ],
      "metadata": {
        "id": "izS79kUvbf7g",
        "colab": {
          "base_uri": "https://localhost:8080/"
        },
        "outputId": "b76aa486-b582-407e-c4a2-cade43a3b222"
      },
      "execution_count": 4,
      "outputs": [
        {
          "output_type": "stream",
          "name": "stdout",
          "text": [
            "Iteration Phi            f(Phi)              f(Phi)              Phi_next       Error          \n",
            "-----------------------------------------------------------------------------------------------\n",
            "0         0.300000       4.355114            80.493530           0.245895       0.054105       \n",
            "1         0.245895       -0.170623           87.145249           0.247853       0.001958       \n",
            "2         0.247853       -0.000273           86.866982           0.247856       0.000003       \n",
            "3         0.247856       -0.000000           86.866538           0.247856       0.000000       \n"
          ]
        },
        {
          "output_type": "execute_result",
          "data": {
            "text/plain": [
              "0.24785591766723838"
            ]
          },
          "metadata": {},
          "execution_count": 4
        }
      ]
    },
    {
      "cell_type": "code",
      "source": [
        "# GT3 Problem 1 Part A Solution\n",
        "phi = Newton_Raphson(phi_0, num_components, comp_x, K, show_table=False)\n",
        "V_F = phi * np.sum(comp_x)\n",
        "L_F= (1-phi)*np.sum(comp_x)\n",
        "print(f\"Vapor flow rate: {V_F}\")\n",
        "print(f\"Liquid flow rate: {L_F}\")"
      ],
      "metadata": {
        "id": "D48J_a6jjmhU",
        "colab": {
          "base_uri": "https://localhost:8080/"
        },
        "outputId": "4f9adf28-33ab-44d7-cf4a-e44c2cc94ddf"
      },
      "execution_count": 5,
      "outputs": [
        {
          "output_type": "stream",
          "name": "stdout",
          "text": [
            "Vapor flow rate: 24.78559176672384\n",
            "Liquid flow rate: 75.21440823327616\n"
          ]
        }
      ]
    },
    {
      "cell_type": "code",
      "source": [
        "#GT3 Problem 1 Part B Solution\n",
        "# Calculate x and y for each component\n",
        "x = comp_x / (1 + phi * (K - 1))/100\n",
        "y = K * x\n",
        "\n",
        "print(f\"Calculated x values: {x}\") #In order of component\n",
        "print(f\"Calculated y values: {y}\") #In order of component"
      ],
      "metadata": {
        "id": "F36j53hVj6SS",
        "colab": {
          "base_uri": "https://localhost:8080/"
        },
        "outputId": "386ca9f0-008d-47fa-ff82-df54f10e8914"
      },
      "execution_count": 6,
      "outputs": [
        {
          "output_type": "stream",
          "name": "stdout",
          "text": [
            "Calculated x values: [0.19413919 0.80586081]\n",
            "Calculated y values: [0.62124542 0.37875458]\n"
          ]
        }
      ]
    },
    {
      "cell_type": "code",
      "source": [
        "import numpy as np\n",
        "\n",
        "def straight_line_error_method(T1, error1, T2, error2):\n",
        "    \"\"\"\n",
        "    Calculate a new temperature using the straight-line error method.\n",
        "\n",
        "    Parameters:\n",
        "    T1 : float\n",
        "        Temperature from the first trial.\n",
        "    error1 : float\n",
        "        Error from the first trial.\n",
        "    T2 : float\n",
        "        Temperature from the second trial.\n",
        "    error2 : float\n",
        "        Error from the second trial.\n",
        "\n",
        "    Returns:\n",
        "    new_T : float\n",
        "        New temperature calculated by linear interpolation.\n",
        "    \"\"\"\n",
        "    # Calculate the slope of the error function\n",
        "    slope = (error2 - error1) / (T2 - T1)\n",
        "\n",
        "    # Use linear interpolation to calculate the new temperature\n",
        "    new_T = T2 - error2 / slope\n",
        "    return new_T\n",
        "\n",
        "def bubble_point_temperature(pressure, comp_x, num_components):\n",
        "    \"\"\"\n",
        "    Calculate the bubble point temperature using user input and the straight-line error method.\n",
        "\n",
        "    Parameters:\n",
        "    pressure : float\n",
        "        Pressure at which the bubble point temperature is to be determined (in mmHg).\n",
        "    comp_x : list or numpy array\n",
        "        Mole fractions of the components in the mixture.\n",
        "    num_components : int\n",
        "        Number of components in the mixture.\n",
        "\n",
        "    Returns:\n",
        "    None\n",
        "    \"\"\"\n",
        "    # Prepare to store results for the table\n",
        "    results = []\n",
        "\n",
        "    # First trial: Initial guess\n",
        "    T_guess_1 = float(input(\"Enter the initial guess temperature (in °C) for trial 1: \"))\n",
        "    K_values_1 = [float(input(f\"Enter the K value for component {i+1} at T={T_guess_1}°C: \")) for i in range(num_components)]\n",
        "\n",
        "    # Calculate the error for the first trial\n",
        "    error_1 = 1 - np.sum([K_values_1[i] * comp_x[i] for i in range(num_components)])\n",
        "    results.append((T_guess_1, K_values_1, error_1))\n",
        "\n",
        "    print(f\"Error for Trial 1 (T={T_guess_1}°F): {error_1:.5f}\")\n",
        "\n",
        "    # Second trial: Adjust temperature and K values\n",
        "    T_guess_2 = float(input(\"Enter the next temperature guess (in °F) for trial 2: \"))\n",
        "    K_values_2 = [float(input(f\"Enter the K value for component {i+1} at T={T_guess_2}°F: \")) for i in range(num_components)]\n",
        "\n",
        "    # Calculate the error for the second trial\n",
        "    error_2 = 1 - np.sum([K_values_2[i] * comp_x[i] for i in range(num_components)])\n",
        "    results.append((T_guess_2, K_values_2, error_2))\n",
        "\n",
        "    print(f\"Error for Trial 2 (T={T_guess_2}°F): {error_2:.5f}\")\n",
        "\n",
        "    # Calculate the new temperature using the straight-line error method\n",
        "    new_T = straight_line_error_method(T_guess_1, error_1, T_guess_2, error_2)\n",
        "\n",
        "    # Calculate the error for the new temperature\n",
        "    K_values_new = [float(input(f\"Enter the K value for component {i+1} at T={new_T}°F: \")) for i in range(num_components)]\n",
        "    error_new = 1 - np.sum([K_values_new[i] * comp_x[i] for i in range(num_components)])\n",
        "    results.append((new_T, K_values_new, error_new))\n",
        "\n",
        "    print(f\"New temperature after straight-line method: T={new_T:.2f}°F with error {error_new:.5f}\")\n",
        "\n",
        "    # Print the results in a table format\n",
        "    print(f\"\\n{'Trial Temp (°F)':<20}{'K values':<40}{'Error':<20}\")\n",
        "    print(\"=\"*80)\n",
        "    for T_guess, K_values, error in results:\n",
        "        print(f\"{T_guess:<20}{' '.join([f'{k:.2f}' for k in K_values]):<40}{error:<20.5f}\")\n",
        "\n",
        "\n"
      ],
      "metadata": {
        "id": "ON7Yyectls7h"
      },
      "execution_count": 7,
      "outputs": []
    },
    {
      "cell_type": "code",
      "source": [
        "#GT3 Problem 1 Part C Solution\n",
        "pressure = 100  # Atmospheric pressure in psia\n",
        "bubble_point_temperature(pressure, comp_x, num_components)"
      ],
      "metadata": {
        "id": "AXV06lSwp_pO",
        "colab": {
          "base_uri": "https://localhost:8080/",
          "height": 339
        },
        "outputId": "b5dc4bbd-a1f3-4bae-d420-7a1afbb5766e"
      },
      "execution_count": 9,
      "outputs": [
        {
          "name": "stdout",
          "output_type": "stream",
          "text": [
            "Enter the initial guess temperature (in °C) for trial 1: 140\n"
          ]
        },
        {
          "output_type": "error",
          "ename": "KeyboardInterrupt",
          "evalue": "Interrupted by user",
          "traceback": [
            "\u001b[0;31m---------------------------------------------------------------------------\u001b[0m",
            "\u001b[0;31mKeyboardInterrupt\u001b[0m                         Traceback (most recent call last)",
            "\u001b[0;32m<ipython-input-9-878789d3fbfe>\u001b[0m in \u001b[0;36m<cell line: 0>\u001b[0;34m()\u001b[0m\n\u001b[1;32m      1\u001b[0m \u001b[0;31m#GT3 Problem 1 Part C Solution\u001b[0m\u001b[0;34m\u001b[0m\u001b[0;34m\u001b[0m\u001b[0m\n\u001b[1;32m      2\u001b[0m \u001b[0mpressure\u001b[0m \u001b[0;34m=\u001b[0m \u001b[0;36m100\u001b[0m  \u001b[0;31m# Atmospheric pressure in psia\u001b[0m\u001b[0;34m\u001b[0m\u001b[0;34m\u001b[0m\u001b[0m\n\u001b[0;32m----> 3\u001b[0;31m \u001b[0mbubble_point_temperature\u001b[0m\u001b[0;34m(\u001b[0m\u001b[0mpressure\u001b[0m\u001b[0;34m,\u001b[0m \u001b[0mcomp_x\u001b[0m\u001b[0;34m,\u001b[0m \u001b[0mnum_components\u001b[0m\u001b[0;34m)\u001b[0m\u001b[0;34m\u001b[0m\u001b[0;34m\u001b[0m\u001b[0m\n\u001b[0m",
            "\u001b[0;32m<ipython-input-7-d7a3ca42efc3>\u001b[0m in \u001b[0;36mbubble_point_temperature\u001b[0;34m(pressure, comp_x, num_components)\u001b[0m\n\u001b[1;32m     46\u001b[0m     \u001b[0;31m# First trial: Initial guess\u001b[0m\u001b[0;34m\u001b[0m\u001b[0;34m\u001b[0m\u001b[0m\n\u001b[1;32m     47\u001b[0m     \u001b[0mT_guess_1\u001b[0m \u001b[0;34m=\u001b[0m \u001b[0mfloat\u001b[0m\u001b[0;34m(\u001b[0m\u001b[0minput\u001b[0m\u001b[0;34m(\u001b[0m\u001b[0;34m\"Enter the initial guess temperature (in °C) for trial 1: \"\u001b[0m\u001b[0;34m)\u001b[0m\u001b[0;34m)\u001b[0m\u001b[0;34m\u001b[0m\u001b[0;34m\u001b[0m\u001b[0m\n\u001b[0;32m---> 48\u001b[0;31m     \u001b[0mK_values_1\u001b[0m \u001b[0;34m=\u001b[0m \u001b[0;34m[\u001b[0m\u001b[0mfloat\u001b[0m\u001b[0;34m(\u001b[0m\u001b[0minput\u001b[0m\u001b[0;34m(\u001b[0m\u001b[0;34mf\"Enter the K value for component {i+1} at T={T_guess_1}°C: \"\u001b[0m\u001b[0;34m)\u001b[0m\u001b[0;34m)\u001b[0m \u001b[0;32mfor\u001b[0m \u001b[0mi\u001b[0m \u001b[0;32min\u001b[0m \u001b[0mrange\u001b[0m\u001b[0;34m(\u001b[0m\u001b[0mnum_components\u001b[0m\u001b[0;34m)\u001b[0m\u001b[0;34m]\u001b[0m\u001b[0;34m\u001b[0m\u001b[0;34m\u001b[0m\u001b[0m\n\u001b[0m\u001b[1;32m     49\u001b[0m \u001b[0;34m\u001b[0m\u001b[0m\n\u001b[1;32m     50\u001b[0m     \u001b[0;31m# Calculate the error for the first trial\u001b[0m\u001b[0;34m\u001b[0m\u001b[0;34m\u001b[0m\u001b[0m\n",
            "\u001b[0;32m<ipython-input-7-d7a3ca42efc3>\u001b[0m in \u001b[0;36m<listcomp>\u001b[0;34m(.0)\u001b[0m\n\u001b[1;32m     46\u001b[0m     \u001b[0;31m# First trial: Initial guess\u001b[0m\u001b[0;34m\u001b[0m\u001b[0;34m\u001b[0m\u001b[0m\n\u001b[1;32m     47\u001b[0m     \u001b[0mT_guess_1\u001b[0m \u001b[0;34m=\u001b[0m \u001b[0mfloat\u001b[0m\u001b[0;34m(\u001b[0m\u001b[0minput\u001b[0m\u001b[0;34m(\u001b[0m\u001b[0;34m\"Enter the initial guess temperature (in °C) for trial 1: \"\u001b[0m\u001b[0;34m)\u001b[0m\u001b[0;34m)\u001b[0m\u001b[0;34m\u001b[0m\u001b[0;34m\u001b[0m\u001b[0m\n\u001b[0;32m---> 48\u001b[0;31m     \u001b[0mK_values_1\u001b[0m \u001b[0;34m=\u001b[0m \u001b[0;34m[\u001b[0m\u001b[0mfloat\u001b[0m\u001b[0;34m(\u001b[0m\u001b[0minput\u001b[0m\u001b[0;34m(\u001b[0m\u001b[0;34mf\"Enter the K value for component {i+1} at T={T_guess_1}°C: \"\u001b[0m\u001b[0;34m)\u001b[0m\u001b[0;34m)\u001b[0m \u001b[0;32mfor\u001b[0m \u001b[0mi\u001b[0m \u001b[0;32min\u001b[0m \u001b[0mrange\u001b[0m\u001b[0;34m(\u001b[0m\u001b[0mnum_components\u001b[0m\u001b[0;34m)\u001b[0m\u001b[0;34m]\u001b[0m\u001b[0;34m\u001b[0m\u001b[0;34m\u001b[0m\u001b[0m\n\u001b[0m\u001b[1;32m     49\u001b[0m \u001b[0;34m\u001b[0m\u001b[0m\n\u001b[1;32m     50\u001b[0m     \u001b[0;31m# Calculate the error for the first trial\u001b[0m\u001b[0;34m\u001b[0m\u001b[0;34m\u001b[0m\u001b[0m\n",
            "\u001b[0;32m/usr/local/lib/python3.11/dist-packages/ipykernel/kernelbase.py\u001b[0m in \u001b[0;36mraw_input\u001b[0;34m(self, prompt)\u001b[0m\n\u001b[1;32m   1175\u001b[0m                 \u001b[0;34m\"raw_input was called, but this frontend does not support input requests.\"\u001b[0m\u001b[0;34m\u001b[0m\u001b[0;34m\u001b[0m\u001b[0m\n\u001b[1;32m   1176\u001b[0m             )\n\u001b[0;32m-> 1177\u001b[0;31m         return self._input_request(\n\u001b[0m\u001b[1;32m   1178\u001b[0m             \u001b[0mstr\u001b[0m\u001b[0;34m(\u001b[0m\u001b[0mprompt\u001b[0m\u001b[0;34m)\u001b[0m\u001b[0;34m,\u001b[0m\u001b[0;34m\u001b[0m\u001b[0;34m\u001b[0m\u001b[0m\n\u001b[1;32m   1179\u001b[0m             \u001b[0mself\u001b[0m\u001b[0;34m.\u001b[0m\u001b[0m_parent_ident\u001b[0m\u001b[0;34m[\u001b[0m\u001b[0;34m\"shell\"\u001b[0m\u001b[0;34m]\u001b[0m\u001b[0;34m,\u001b[0m\u001b[0;34m\u001b[0m\u001b[0;34m\u001b[0m\u001b[0m\n",
            "\u001b[0;32m/usr/local/lib/python3.11/dist-packages/ipykernel/kernelbase.py\u001b[0m in \u001b[0;36m_input_request\u001b[0;34m(self, prompt, ident, parent, password)\u001b[0m\n\u001b[1;32m   1217\u001b[0m             \u001b[0;32mexcept\u001b[0m \u001b[0mKeyboardInterrupt\u001b[0m\u001b[0;34m:\u001b[0m\u001b[0;34m\u001b[0m\u001b[0;34m\u001b[0m\u001b[0m\n\u001b[1;32m   1218\u001b[0m                 \u001b[0;31m# re-raise KeyboardInterrupt, to truncate traceback\u001b[0m\u001b[0;34m\u001b[0m\u001b[0;34m\u001b[0m\u001b[0m\n\u001b[0;32m-> 1219\u001b[0;31m                 \u001b[0;32mraise\u001b[0m \u001b[0mKeyboardInterrupt\u001b[0m\u001b[0;34m(\u001b[0m\u001b[0;34m\"Interrupted by user\"\u001b[0m\u001b[0;34m)\u001b[0m \u001b[0;32mfrom\u001b[0m \u001b[0;32mNone\u001b[0m\u001b[0;34m\u001b[0m\u001b[0;34m\u001b[0m\u001b[0m\n\u001b[0m\u001b[1;32m   1220\u001b[0m             \u001b[0;32mexcept\u001b[0m \u001b[0mException\u001b[0m\u001b[0;34m:\u001b[0m\u001b[0;34m\u001b[0m\u001b[0;34m\u001b[0m\u001b[0m\n\u001b[1;32m   1221\u001b[0m                 \u001b[0mself\u001b[0m\u001b[0;34m.\u001b[0m\u001b[0mlog\u001b[0m\u001b[0;34m.\u001b[0m\u001b[0mwarning\u001b[0m\u001b[0;34m(\u001b[0m\u001b[0;34m\"Invalid Message:\"\u001b[0m\u001b[0;34m,\u001b[0m \u001b[0mexc_info\u001b[0m\u001b[0;34m=\u001b[0m\u001b[0;32mTrue\u001b[0m\u001b[0;34m)\u001b[0m\u001b[0;34m\u001b[0m\u001b[0;34m\u001b[0m\u001b[0m\n",
            "\u001b[0;31mKeyboardInterrupt\u001b[0m: Interrupted by user"
          ]
        }
      ]
    },
    {
      "cell_type": "code",
      "source": [
        "def dew_point_temperature(pressure, comp_x, num_components):\n",
        "    \"\"\"\n",
        "    Calculate the dew point temperature using user input and the straight-line error method.\n",
        "\n",
        "    Parameters:\n",
        "    pressure : float\n",
        "        Pressure at which the dew point temperature is to be determined (in mmHg).\n",
        "    comp_x : list or numpy array\n",
        "        Mole fractions of the components in the mixture (liquid phase).\n",
        "    num_components : int\n",
        "        Number of components in the mixture.\n",
        "\n",
        "    Returns:\n",
        "    None\n",
        "    \"\"\"\n",
        "    # Prepare to store results for the table\n",
        "    results = []\n",
        "\n",
        "    # First trial: Initial guess\n",
        "    T_guess_1 = float(input(\"Enter the initial guess temperature (in °F) for trial 1: \"))\n",
        "    K_values_1 = [float(input(f\"Enter the K value for component {i+1} at T={T_guess_1}°F: \")) for i in range(num_components)]\n",
        "\n",
        "    # Calculate the error for the first trial\n",
        "    error_1 = 1 - np.sum([comp_x[i] / K_values_1[i] for i in range(num_components)])\n",
        "    results.append((T_guess_1, K_values_1, error_1))\n",
        "\n",
        "    print(f\"Error for Trial 1 (T={T_guess_1}°F): {error_1:.5f}\")\n",
        "\n",
        "    # Second trial: Adjust temperature and K values\n",
        "    T_guess_2 = float(input(\"Enter the next temperature guess (in °F) for trial 2: \"))\n",
        "    K_values_2 = [float(input(f\"Enter the K value for component {i+1} at T={T_guess_2}°F: \")) for i in range(num_components)]\n",
        "\n",
        "    # Calculate the error for the second trial\n",
        "    error_2 = 1 - np.sum([comp_x[i] / K_values_2[i] for i in range(num_components)])\n",
        "    results.append((T_guess_2, K_values_2, error_2))\n",
        "\n",
        "    print(f\"Error for Trial 2 (T={T_guess_2}°F): {error_2:.5f}\")\n",
        "\n",
        "    # Calculate the new temperature using the straight-line error method\n",
        "    new_T = straight_line_error_method(T_guess_1, error_1, T_guess_2, error_2)\n",
        "\n",
        "    # Calculate the error for the new temperature\n",
        "    K_values_new = [float(input(f\"Enter the K value for component {i+1} at T={new_T}°F: \")) for i in range(num_components)]\n",
        "    error_new = 1 - np.sum([comp_x[i] / K_values_new[i] for i in range(num_components)])\n",
        "    results.append((new_T, K_values_new, error_new))\n",
        "\n",
        "    print(f\"New temperature after straight-line method: T={new_T:.2f}°F with error {error_new:.5f}\")\n",
        "\n",
        "    # Print the results in a table format\n",
        "    print(f\"\\n{'Trial Temp (°F)':<20}{'K values':<40}{'Error':<20}\")\n",
        "    print(\"=\"*80)\n",
        "    for T_guess, K_values, error in results:\n",
        "        print(f\"{T_guess:<20}{' '.join([f'{k:.2f}' for k in K_values]):<40}{error:<20.5f}\")\n",
        "\n"
      ],
      "metadata": {
        "id": "4H3aBzZNv7Vn"
      },
      "execution_count": null,
      "outputs": []
    },
    {
      "cell_type": "code",
      "source": [
        "#Problem 1 Part D Solution\n",
        "dew_point_temperature(pressure, comp_x, num_components)"
      ],
      "metadata": {
        "id": "LYfuhKI9wg_B"
      },
      "execution_count": null,
      "outputs": []
    },
    {
      "cell_type": "code",
      "source": [
        "#Problem 2\n",
        "phi_0 = float(input(\"Input an initial guess for phi: \"))\n",
        "num_components = int(input(\"Input the number of streams feeding the flash drum: \"))\n",
        "comp_x = np.array(list(map(float, input(\"Input a list of molar flow rates for each stream (comma-separated): \").split(','))))\n",
        "K = np.array(list(map(float, input(\"Input the K (equilibrium constant) values for each stream in order (comma-separated): \").split(','))))"
      ],
      "metadata": {
        "id": "-KG30MwVwh3v"
      },
      "execution_count": null,
      "outputs": []
    },
    {
      "cell_type": "code",
      "source": [
        "H=0.31767*5597\n",
        "M=0.58942*5597\n",
        "B=0.07147*5597\n",
        "T=0.02144*5597\n",
        "print(H, M, B, T)"
      ],
      "metadata": {
        "id": "uhlYw47XNJkW"
      },
      "execution_count": null,
      "outputs": []
    },
    {
      "cell_type": "code",
      "source": [
        "#GT3 Problem 2 Part A & B Work\n",
        "phi= Newton_Raphson(phi_0, num_components, comp_x, K)\n",
        "V_F = phi * np.sum(comp_x)\n",
        "L_F= (1-phi)*np.sum(comp_x)\n",
        "print(f\"Vapor flow rate: {V_F}\")\n",
        "print(f\"Liquid flow rate: {L_F}\")"
      ],
      "metadata": {
        "id": "0alOwP5rN3IF"
      },
      "execution_count": null,
      "outputs": []
    },
    {
      "cell_type": "code",
      "source": [
        "#GT3 Problem 2 Part C Solution\n",
        "# Calculate x and y for each component\n",
        "x = comp_x / (1 + phi * (K - 1))/100\n",
        "y = K * x\n",
        "\n",
        "print(f\"Calculated x values: {x}\") #In order of component\n",
        "print(f\"Calculated y values: {y}\") #In order of component"
      ],
      "metadata": {
        "id": "rluSishmOXg4"
      },
      "execution_count": null,
      "outputs": []
    },
    {
      "cell_type": "markdown",
      "source": [
        "**Problem 3 - Distillation**"
      ],
      "metadata": {
        "id": "rs8xSd86wnZw"
      }
    },
    {
      "cell_type": "code",
      "source": [],
      "metadata": {
        "id": "TPWYbRz3w-R1"
      },
      "execution_count": null,
      "outputs": []
    }
  ]
}