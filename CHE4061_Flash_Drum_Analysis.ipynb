{
  "nbformat": 4,
  "nbformat_minor": 0,
  "metadata": {
    "colab": {
      "provenance": [],
      "authorship_tag": "ABX9TyNJJBKtna20AlTEWJg0/gZ5",
      "include_colab_link": true
    },
    "kernelspec": {
      "name": "python3",
      "display_name": "Python 3"
    },
    "language_info": {
      "name": "python"
    }
  },
  "cells": [
    {
      "cell_type": "markdown",
      "metadata": {
        "id": "view-in-github",
        "colab_type": "text"
      },
      "source": [
        "<a href=\"https://colab.research.google.com/github/michaelknorr/CHE4061/blob/main/CHE4061_Flash_Drum_Analysis.ipynb\" target=\"_parent\"><img src=\"https://colab.research.google.com/assets/colab-badge.svg\" alt=\"Open In Colab\"/></a>"
      ]
    },
    {
      "cell_type": "code",
      "source": [
        "import numpy as np\n",
        "\n",
        "# Inputs\n",
        "phi_0 = float(input(\"Input an initial guess for phi: \"))\n",
        "num_components = int(input(\"Input the number of streams feeding the flash drum: \"))\n",
        "comp_x = np.array(list(map(float, input(\"Input a list of molar flow rates for each stream (comma-separated): \").split(','))))\n",
        "K = np.array(list(map(float, input(\"Input the K (equilibrium constant) values for each stream in order (comma-separated): \").split(','))))\n"
      ],
      "metadata": {
        "colab": {
          "base_uri": "https://localhost:8080/"
        },
        "id": "H0ixQWwZeGQB",
        "outputId": "431f1177-811d-4939-8bd5-d65d4a751ad8"
      },
      "execution_count": 23,
      "outputs": [
        {
          "name": "stdout",
          "output_type": "stream",
          "text": [
            "Input an initial guess for phi: 0.5\n",
            "Input the number of streams feeding the flash drum: 2\n",
            "Input a list of molar flow rates for each stream (comma-separated): 30, 70\n",
            "Input the K (equilibrium constant) values for each stream in order (comma-separated): 3.2, 0.47\n"
          ]
        }
      ]
    },
    {
      "cell_type": "code",
      "execution_count": 31,
      "metadata": {
        "id": "EbgE7sWrYSCs"
      },
      "outputs": [],
      "source": [
        "import numpy as np\n",
        "\n",
        "def Newton_Raphson(phi_0, num_components, comp_x, K, tol=1e-6, max_iter=100, show_table=True):\n",
        "    \"\"\"\n",
        "    Performs Newton-Raphson iteration to find the root of a function.\n",
        "\n",
        "    Parameters:\n",
        "    phi_0 : float\n",
        "        Initial guess for phi.\n",
        "    num_components : int\n",
        "        Number of components.\n",
        "    comp_x : list or numpy array\n",
        "        Mole fractions of components.\n",
        "    K : list or numpy array\n",
        "        Equilibrium constants of components.\n",
        "    tol : float, optional\n",
        "        Convergence tolerance (default is 1e-6).\n",
        "    max_iter : int, optional\n",
        "        Maximum number of iterations (default is 100).\n",
        "    show_table : bool, optional\n",
        "        Whether to print the iteration table (default is True).\n",
        "\n",
        "    Returns:\n",
        "    phi_next : float\n",
        "        Converged phi value.\n",
        "    \"\"\"\n",
        "    phi_current = phi_0\n",
        "\n",
        "    if show_table:\n",
        "        print(f\"{'Iteration':<10}{'Phi':<15}{'f(Phi)':<20}{'f(Phi)':<20}{'Phi_next':<15}{'Error':<15}\")\n",
        "        print(\"-\" * 95)\n",
        "\n",
        "    for iteration in range(max_iter):\n",
        "        f_phi_current = np.sum([(comp_x[i] * (1 - K[i])) / (1 + phi_current * (K[i] - 1)) for i in range(num_components)])\n",
        "        f_phi_next = np.sum([(comp_x[i] * (1 - K[i])**2) / (1 + phi_current * (K[i] - 1))**2 for i in range(num_components)])\n",
        "\n",
        "        phi_next = phi_current - f_phi_current / f_phi_next\n",
        "        error = abs(phi_next - phi_current)\n",
        "\n",
        "        if show_table:\n",
        "            print(f\"{iteration:<10}{phi_current:<15.6f}{f_phi_current:<20.6f}{f_phi_next:<20.6f}{phi_next:<15.6f}{error:<15.6f}\")\n",
        "\n",
        "        if error < tol:\n",
        "            return phi_next  # Converged solution\n",
        "\n",
        "        phi_current = phi_next\n",
        "\n",
        "    raise ValueError(\"Newton-Raphson did not converge within the maximum number of iterations\")\n"
      ]
    },
    {
      "cell_type": "code",
      "source": [
        "Newton_Raphson(phi_0, num_components, comp_x, K) #GT3 Problem 1 Part A Work"
      ],
      "metadata": {
        "colab": {
          "base_uri": "https://localhost:8080/"
        },
        "id": "izS79kUvbf7g",
        "outputId": "275ea2be-d4fb-4bf6-d1a8-0bb5ff9e9426"
      },
      "execution_count": 36,
      "outputs": [
        {
          "output_type": "stream",
          "name": "stdout",
          "text": [
            "Iteration Phi            f(Phi)              f(Phi)              Phi_next       Error          \n",
            "-----------------------------------------------------------------------------------------------\n",
            "0         0.500000       19.047619           69.322967           0.225234       0.274766       \n",
            "1         0.225234       -2.002870           90.276240           0.247420       0.022186       \n",
            "2         0.247420       -0.037910           86.928274           0.247856       0.000436       \n",
            "3         0.247856       -0.000013           86.866560           0.247856       0.000000       \n"
          ]
        },
        {
          "output_type": "execute_result",
          "data": {
            "text/plain": [
              "0.24785591766721887"
            ]
          },
          "metadata": {},
          "execution_count": 36
        }
      ]
    },
    {
      "cell_type": "code",
      "source": [
        "# GT3 Problem 1 Part A Solution\n",
        "phi = Newton_Raphson(phi_0, num_components, comp_x, K, show_table=False)\n",
        "V_F = phi * np.sum(comp_x)\n",
        "L_F= (1-phi)*np.sum(comp_x)\n",
        "print(f\"Vapor flow rate: {V_F}\")\n",
        "print(f\"Liquid flow rate: {L_F}\")"
      ],
      "metadata": {
        "colab": {
          "base_uri": "https://localhost:8080/"
        },
        "id": "D48J_a6jjmhU",
        "outputId": "5ac098ef-933b-422a-d328-328fedbe6500"
      },
      "execution_count": 37,
      "outputs": [
        {
          "output_type": "stream",
          "name": "stdout",
          "text": [
            "Vapor flow rate: 24.785591766721886\n",
            "Liquid flow rate: 75.21440823327812\n"
          ]
        }
      ]
    },
    {
      "cell_type": "code",
      "source": [
        "#GT3 Problem 1 Part B Solution\n",
        "# Calculate x and y for each component\n",
        "x = comp_x / (1 + phi * (K - 1))/100\n",
        "y = K * x\n",
        "\n",
        "print(f\"Calculated x values: {x}\") #In order of component\n",
        "print(f\"Calculated y values: {y}\") #In order of component"
      ],
      "metadata": {
        "colab": {
          "base_uri": "https://localhost:8080/"
        },
        "id": "F36j53hVj6SS",
        "outputId": "f1888773-b55c-4f04-b024-9924f38840ea"
      },
      "execution_count": 45,
      "outputs": [
        {
          "output_type": "stream",
          "name": "stdout",
          "text": [
            "Calculated x values: [0.19413919 0.80586081]\n",
            "Calculated y values: [0.62124542 0.37875458]\n"
          ]
        }
      ]
    },
    {
      "cell_type": "code",
      "source": [
        "import numpy as np\n",
        "\n",
        "def straight_line_error_method(T1, error1, T2, error2):\n",
        "    \"\"\"\n",
        "    Calculate a new temperature using the straight-line error method.\n",
        "\n",
        "    Parameters:\n",
        "    T1 : float\n",
        "        Temperature from the first trial.\n",
        "    error1 : float\n",
        "        Error from the first trial.\n",
        "    T2 : float\n",
        "        Temperature from the second trial.\n",
        "    error2 : float\n",
        "        Error from the second trial.\n",
        "\n",
        "    Returns:\n",
        "    new_T : float\n",
        "        New temperature calculated by linear interpolation.\n",
        "    \"\"\"\n",
        "    # Calculate the slope of the error function\n",
        "    slope = (error2 - error1) / (T2 - T1)\n",
        "\n",
        "    # Use linear interpolation to calculate the new temperature\n",
        "    new_T = T2 - error2 / slope\n",
        "    return new_T\n",
        "\n",
        "def bubble_point_temperature(pressure, comp_x, num_components):\n",
        "    \"\"\"\n",
        "    Calculate the bubble point temperature using user input and the straight-line error method.\n",
        "\n",
        "    Parameters:\n",
        "    pressure : float\n",
        "        Pressure at which the bubble point temperature is to be determined (in mmHg).\n",
        "    comp_x : list or numpy array\n",
        "        Mole fractions of the components in the mixture.\n",
        "    num_components : int\n",
        "        Number of components in the mixture.\n",
        "\n",
        "    Returns:\n",
        "    None\n",
        "    \"\"\"\n",
        "    # Prepare to store results for the table\n",
        "    results = []\n",
        "\n",
        "    # First trial: Initial guess\n",
        "    T_guess_1 = float(input(\"Enter the initial guess temperature (in °C) for trial 1: \"))\n",
        "    K_values_1 = [float(input(f\"Enter the K value for component {i+1} at T={T_guess_1}°C: \")) for i in range(num_components)]\n",
        "\n",
        "    # Calculate the error for the first trial\n",
        "    error_1 = 1 - np.sum([K_values_1[i] * comp_x[i] for i in range(num_components)])\n",
        "    results.append((T_guess_1, K_values_1, error_1))\n",
        "\n",
        "    print(f\"Error for Trial 1 (T={T_guess_1}°F): {error_1:.5f}\")\n",
        "\n",
        "    # Second trial: Adjust temperature and K values\n",
        "    T_guess_2 = float(input(\"Enter the next temperature guess (in °F) for trial 2: \"))\n",
        "    K_values_2 = [float(input(f\"Enter the K value for component {i+1} at T={T_guess_2}°F: \")) for i in range(num_components)]\n",
        "\n",
        "    # Calculate the error for the second trial\n",
        "    error_2 = 1 - np.sum([K_values_2[i] * comp_x[i] for i in range(num_components)])\n",
        "    results.append((T_guess_2, K_values_2, error_2))\n",
        "\n",
        "    print(f\"Error for Trial 2 (T={T_guess_2}°F): {error_2:.5f}\")\n",
        "\n",
        "    # Calculate the new temperature using the straight-line error method\n",
        "    new_T = straight_line_error_method(T_guess_1, error_1, T_guess_2, error_2)\n",
        "\n",
        "    # Calculate the error for the new temperature\n",
        "    K_values_new = [float(input(f\"Enter the K value for component {i+1} at T={new_T}°F: \")) for i in range(num_components)]\n",
        "    error_new = 1 - np.sum([K_values_new[i] * comp_x[i] for i in range(num_components)])\n",
        "    results.append((new_T, K_values_new, error_new))\n",
        "\n",
        "    print(f\"New temperature after straight-line method: T={new_T:.2f}°F with error {error_new:.5f}\")\n",
        "\n",
        "    # Print the results in a table format\n",
        "    print(f\"\\n{'Trial Temp (°F)':<20}{'K values':<40}{'Error':<20}\")\n",
        "    print(\"=\"*80)\n",
        "    for T_guess, K_values, error in results:\n",
        "        print(f\"{T_guess:<20}{' '.join([f'{k:.2f}' for k in K_values]):<40}{error:<20.5f}\")\n",
        "\n",
        "\n"
      ],
      "metadata": {
        "id": "ON7Yyectls7h"
      },
      "execution_count": 52,
      "outputs": []
    },
    {
      "cell_type": "code",
      "source": [
        "#GT3 Problem 1 Part C Solution\n",
        "pressure = 100  # Atmospheric pressure in psia\n",
        "bubble_point_temperature(pressure, comp_x, num_components)"
      ],
      "metadata": {
        "colab": {
          "base_uri": "https://localhost:8080/"
        },
        "id": "AXV06lSwp_pO",
        "outputId": "152e3c15-a6a9-4828-826d-bb3d6195b84e"
      },
      "execution_count": 53,
      "outputs": [
        {
          "output_type": "stream",
          "name": "stdout",
          "text": [
            "Enter the initial guess temperature (in °C) for trial 1: 140\n",
            "Enter the K value for component 1 at T=140.0°C: 2.7\n",
            "Enter the K value for component 2 at T=140.0°C: 0.351\n",
            "Error for Trial 1 (T=140.0°C): -0.05570\n",
            "Enter the next temperature guess (in °C) for trial 2: 130\n",
            "Enter the K value for component 1 at T=130.0°C: 2.4\n",
            "Enter the K value for component 2 at T=130.0°C: 0.3\n",
            "Error for Trial 2 (T=130.0°C): 0.07000\n",
            "Enter the K value for component 1 at T=135.56881463802705°C: 2.6\n",
            "Enter the K value for component 2 at T=135.56881463802705°C: 0.34\n",
            "New temperature after straight-line method: T=135.57°C with error -0.01800\n",
            "\n",
            "Trial Temp (°C)     K values                                Error               \n",
            "================================================================================\n",
            "140.0               2.70 0.35                               -0.05570            \n",
            "130.0               2.40 0.30                               0.07000             \n",
            "135.56881463802705  2.60 0.34                               -0.01800            \n"
          ]
        }
      ]
    },
    {
      "cell_type": "code",
      "source": [
        "def dew_point_temperature(pressure, comp_x, num_components):\n",
        "    \"\"\"\n",
        "    Calculate the dew point temperature using user input and the straight-line error method.\n",
        "\n",
        "    Parameters:\n",
        "    pressure : float\n",
        "        Pressure at which the dew point temperature is to be determined (in mmHg).\n",
        "    comp_x : list or numpy array\n",
        "        Mole fractions of the components in the mixture (liquid phase).\n",
        "    num_components : int\n",
        "        Number of components in the mixture.\n",
        "\n",
        "    Returns:\n",
        "    None\n",
        "    \"\"\"\n",
        "    # Prepare to store results for the table\n",
        "    results = []\n",
        "\n",
        "    # First trial: Initial guess\n",
        "    T_guess_1 = float(input(\"Enter the initial guess temperature (in °F) for trial 1: \"))\n",
        "    K_values_1 = [float(input(f\"Enter the K value for component {i+1} at T={T_guess_1}°F: \")) for i in range(num_components)]\n",
        "\n",
        "    # Calculate the error for the first trial\n",
        "    error_1 = 1 - np.sum([comp_x[i] / K_values_1[i] for i in range(num_components)])\n",
        "    results.append((T_guess_1, K_values_1, error_1))\n",
        "\n",
        "    print(f\"Error for Trial 1 (T={T_guess_1}°F): {error_1:.5f}\")\n",
        "\n",
        "    # Second trial: Adjust temperature and K values\n",
        "    T_guess_2 = float(input(\"Enter the next temperature guess (in °F) for trial 2: \"))\n",
        "    K_values_2 = [float(input(f\"Enter the K value for component {i+1} at T={T_guess_2}°F: \")) for i in range(num_components)]\n",
        "\n",
        "    # Calculate the error for the second trial\n",
        "    error_2 = 1 - np.sum([comp_x[i] / K_values_2[i] for i in range(num_components)])\n",
        "    results.append((T_guess_2, K_values_2, error_2))\n",
        "\n",
        "    print(f\"Error for Trial 2 (T={T_guess_2}°F): {error_2:.5f}\")\n",
        "\n",
        "    # Calculate the new temperature using the straight-line error method\n",
        "    new_T = straight_line_error_method(T_guess_1, error_1, T_guess_2, error_2)\n",
        "\n",
        "    # Calculate the error for the new temperature\n",
        "    K_values_new = [float(input(f\"Enter the K value for component {i+1} at T={new_T}°F: \")) for i in range(num_components)]\n",
        "    error_new = 1 - np.sum([comp_x[i] / K_values_new[i] for i in range(num_components)])\n",
        "    results.append((new_T, K_values_new, error_new))\n",
        "\n",
        "    print(f\"New temperature after straight-line method: T={new_T:.2f}°F with error {error_new:.5f}\")\n",
        "\n",
        "    # Print the results in a table format\n",
        "    print(f\"\\n{'Trial Temp (°F)':<20}{'K values':<40}{'Error':<20}\")\n",
        "    print(\"=\"*80)\n",
        "    for T_guess, K_values, error in results:\n",
        "        print(f\"{T_guess:<20}{' '.join([f'{k:.2f}' for k in K_values]):<40}{error:<20.5f}\")\n",
        "\n"
      ],
      "metadata": {
        "id": "4H3aBzZNv7Vn"
      },
      "execution_count": 56,
      "outputs": []
    },
    {
      "cell_type": "code",
      "source": [
        "#Problem 1 Part D Solution\n",
        "dew_point_temperature(pressure, comp_x, num_components)"
      ],
      "metadata": {
        "colab": {
          "base_uri": "https://localhost:8080/"
        },
        "id": "LYfuhKI9wg_B",
        "outputId": "0fc1dbed-416e-4b9f-f15a-e1ff06d7f376"
      },
      "execution_count": 55,
      "outputs": [
        {
          "output_type": "stream",
          "name": "stdout",
          "text": [
            "Enter the initial guess temperature (in °C) for trial 1: 180\n",
            "Enter the K value for component 1 at T=180.0°C: 3.65\n",
            "Enter the K value for component 2 at T=180.0°C: 0.59\n",
            "Error for Trial 1 (T=180.0°C): -0.26863\n",
            "Enter the next temperature guess (in °C) for trial 2: 220\n",
            "Enter the K value for component 1 at T=220.0°C: 4.8\n",
            "Enter the K value for component 2 at T=220.0°C: 0.92\n",
            "Error for Trial 2 (T=220.0°C): 0.17663\n",
            "Enter the K value for component 1 at T=204.1324810728167°C: 4.35\n",
            "Enter the K value for component 2 at T=204.1324810728167°C: 0.79\n",
            "New temperature after straight-line method: T=204.13°C with error 0.04496\n",
            "\n",
            "Trial Temp (°C)     K values                                Error               \n",
            "================================================================================\n",
            "180.0               3.65 0.59                               -0.26863            \n",
            "220.0               4.80 0.92                               0.17663             \n",
            "204.1324810728167   4.35 0.79                               0.04496             \n"
          ]
        }
      ]
    },
    {
      "cell_type": "code",
      "source": [
        "#Problem 2\n",
        "phi_0 = float(input(\"Input an initial guess for phi: \"))\n",
        "num_components = int(input(\"Input the number of streams feeding the flash drum: \"))\n",
        "comp_x = np.array(list(map(float, input(\"Input a list of molar flow rates for each stream (comma-separated): \").split(','))))\n",
        "K = np.array(list(map(float, input(\"Input the K (equilibrium constant) values for each stream in order (comma-separated): \").split(','))))"
      ],
      "metadata": {
        "colab": {
          "base_uri": "https://localhost:8080/"
        },
        "id": "-KG30MwVwh3v",
        "outputId": "ac73aa09-217e-442a-e448-728839043fe6"
      },
      "execution_count": 60,
      "outputs": [
        {
          "name": "stdout",
          "output_type": "stream",
          "text": [
            "Input an initial guess for phi: 0.4\n",
            "Input the number of streams feeding the flash drum: 4\n",
            "Input a list of molar flow rates for each stream (comma-separated): 1777.99899, 3298.98374, 400.01759000000004, 119.99968\n",
            "Input the K (equilibrium constant) values for each stream in order (comma-separated): 84.15, 11.24, 0.01233, 0.00454\n"
          ]
        }
      ]
    },
    {
      "cell_type": "code",
      "source": [
        "H=0.31767*5597\n",
        "M=0.58942*5597\n",
        "B=0.07147*5597\n",
        "T=0.02144*5597\n",
        "print(H, M, B, T)"
      ],
      "metadata": {
        "colab": {
          "base_uri": "https://localhost:8080/"
        },
        "id": "uhlYw47XNJkW",
        "outputId": "d181389d-a7a5-4cb1-90ee-2ff391bb296b"
      },
      "execution_count": 59,
      "outputs": [
        {
          "output_type": "stream",
          "name": "stdout",
          "text": [
            "1777.99899 3298.98374 400.01759000000004 119.99968\n"
          ]
        }
      ]
    },
    {
      "cell_type": "code",
      "source": [
        "#GT3 Problem 2 Part A & B Work\n",
        "phi= Newton_Raphson(phi_0, num_components, comp_x, K)\n",
        "V_F = phi * np.sum(comp_x)\n",
        "L_F= (1-phi)*np.sum(comp_x)\n",
        "print(f\"Vapor flow rate: {V_F}\")\n",
        "print(f\"Liquid flow rate: {L_F}\")"
      ],
      "metadata": {
        "colab": {
          "base_uri": "https://localhost:8080/"
        },
        "id": "0alOwP5rN3IF",
        "outputId": "3699d669-ccfa-4d2f-878c-ffdc74d04895"
      },
      "execution_count": 67,
      "outputs": [
        {
          "output_type": "stream",
          "name": "stdout",
          "text": [
            "Iteration Phi            f(Phi)              f(Phi)              Phi_next       Error          \n",
            "-----------------------------------------------------------------------------------------------\n",
            "0         0.400000       -10092.697733       25188.415517        0.800688       0.400688       \n",
            "1         0.800688       -3382.726585        18584.349178        0.982708       0.182020       \n",
            "2         0.982708       14084.743043        707102.333689       0.962789       0.019919       \n",
            "3         0.962789       5987.409227         235557.813613       0.937371       0.025418       \n",
            "4         0.937371       2051.456658         102534.608888       0.917364       0.020007       \n",
            "5         0.917364       418.340887          65254.519665        0.910953       0.006411       \n",
            "6         0.910953       24.604219           57829.312217        0.910527       0.000425       \n",
            "7         0.910527       0.094267            57387.143444        0.910526       0.000002       \n",
            "8         0.910526       0.000001            57385.447395        0.910526       0.000000       \n",
            "Vapor flow rate: 5096.213018089662\n",
            "Liquid flow rate: 500.7869819103381\n"
          ]
        }
      ]
    },
    {
      "cell_type": "code",
      "source": [
        "#GT3 Problem 2 Part C Solution\n",
        "# Calculate x and y for each component\n",
        "x = comp_x / (1 + phi * (K - 1))/100\n",
        "y = K * x\n",
        "\n",
        "print(f\"Calculated x values: {x}\") #In order of component\n",
        "print(f\"Calculated y values: {y}\") #In order of component"
      ],
      "metadata": {
        "colab": {
          "base_uri": "https://localhost:8080/"
        },
        "id": "rluSishmOXg4",
        "outputId": "020f6ec3-67ef-46d6-9392-0d1f1b2948c7"
      },
      "execution_count": 68,
      "outputs": [
        {
          "output_type": "stream",
          "name": "stdout",
          "text": [
            "Calculated x values: [ 0.23178123  3.19551786 39.72331338 12.81938753]\n",
            "Calculated y values: [19.50439083 35.9176207   0.48978845  0.05820002]\n"
          ]
        }
      ]
    },
    {
      "cell_type": "code",
      "source": [
        "-30/-0.55\n"
      ],
      "metadata": {
        "colab": {
          "base_uri": "https://localhost:8080/"
        },
        "id": "-8xXajQhOrnW",
        "outputId": "86978178-6d75-49dc-c6fc-7b62bc7f2619"
      },
      "execution_count": 69,
      "outputs": [
        {
          "output_type": "execute_result",
          "data": {
            "text/plain": [
              "54.54545454545454"
            ]
          },
          "metadata": {},
          "execution_count": 69
        }
      ]
    },
    {
      "cell_type": "code",
      "source": [
        "0.8/(0.36+1)"
      ],
      "metadata": {
        "colab": {
          "base_uri": "https://localhost:8080/"
        },
        "id": "r3ejL3olUX9x",
        "outputId": "022b0c30-ca47-49ad-cf91-bf6e47580439"
      },
      "execution_count": 71,
      "outputs": [
        {
          "output_type": "execute_result",
          "data": {
            "text/plain": [
              "0.5882352941176472"
            ]
          },
          "metadata": {},
          "execution_count": 71
        }
      ]
    },
    {
      "cell_type": "code",
      "source": [],
      "metadata": {
        "id": "ESLTFwXRWGRv"
      },
      "execution_count": null,
      "outputs": []
    }
  ]
}