{
  "nbformat": 4,
  "nbformat_minor": 0,
  "metadata": {
    "colab": {
      "provenance": [],
      "authorship_tag": "ABX9TyO6c4qXC3d+Qpc5uGrpHWRE",
      "include_colab_link": true
    },
    "kernelspec": {
      "name": "python3",
      "display_name": "Python 3"
    },
    "language_info": {
      "name": "python"
    }
  },
  "cells": [
    {
      "cell_type": "markdown",
      "metadata": {
        "id": "view-in-github",
        "colab_type": "text"
      },
      "source": [
        "<a href=\"https://colab.research.google.com/github/michaelknorr/CHE4061/blob/main/CHE4061_Group_Tutorial_1_(Thermo_Analysis)_ipynb.ipynb\" target=\"_parent\"><img src=\"https://colab.research.google.com/assets/colab-badge.svg\" alt=\"Open In Colab\"/></a>"
      ]
    },
    {
      "cell_type": "markdown",
      "source": [
        "Solve for an unknown duty value via an overall column enthalpy balance\n",
        "\n",
        "Next cells define an example from GT 1"
      ],
      "metadata": {
        "id": "R02hX7A3HM2M"
      }
    },
    {
      "cell_type": "code",
      "source": [
        "from typing import List, Optional\n",
        "\n",
        "def Distillation_Column_Energy_Balance(\n",
        "    q_in: List[Optional[float]],\n",
        "    h_in: List[Optional[float]],\n",
        "    q_out: List[Optional[float]],\n",
        "    h_out: List[Optional[float]],\n",
        "    Q_reb: Optional[float] = None,\n",
        "    Q_cond: Optional[float] = None,\n",
        "    Q_lost: Optional[float] = None\n",
        ") -> float:\n",
        "    \"\"\"\n",
        "    Performs an energy balance for a distillation column.\n",
        "\n",
        "    Parameters\n",
        "    ----------\n",
        "    q_in : List[Optional[float]]\n",
        "        Mass flow rates of feed streams (unknown values should be None).\n",
        "    h_in : List[Optional[float]]\n",
        "        Enthalpy values of feed streams (unknown values should be None).\n",
        "    q_out : List[Optional[float]]\n",
        "        Mass flow rates of product streams (unknown values should be None).\n",
        "    h_out : List[Optional[float]]\n",
        "        Enthalpy values of product streams (unknown values should be None).\n",
        "    Q_reb : Optional[float], default=None\n",
        "        Reboiler duty (if known).\n",
        "    Q_cond : Optional[float], default=None\n",
        "        Condenser duty (if known).\n",
        "    Q_lost : Optional[float], default=None\n",
        "        Heat lost to the environment (if known).\n",
        "\n",
        "    Returns\n",
        "    -------\n",
        "    float\n",
        "        The energy imbalance value (should be 0 if balanced).\n",
        "    \"\"\"\n",
        "\n",
        "    # Calculate total enthalpy in and out (ignore None values)\n",
        "    H_in = sum(q * h for q, h in zip(q_in, h_in) if q is not None and h is not None)\n",
        "    H_out = sum(q * h for q, h in zip(q_out, h_out) if q is not None and h is not None)\n",
        "\n",
        "    # Set default values for unknown heat duties\n",
        "    Q_reb = Q_reb if Q_reb is not None else 0\n",
        "    Q_cond = Q_cond if Q_cond is not None else 0\n",
        "    Q_lost = Q_lost if Q_lost is not None else 0\n",
        "\n",
        "    # Energy balance equation: H_in + Q_reb - Q_cond - Q_lost = H_out\n",
        "    energy_balance = H_in + Q_reb - Q_cond - Q_lost - H_out\n",
        "\n",
        "    # Display results\n",
        "    print(\"\\n--- Energy Balance Summary ---\")\n",
        "    print(f\"Total Enthalpy In: {H_in}\")\n",
        "    print(f\"Total Enthalpy Out: {H_out}\")\n",
        "    print(f\"Reboiler Duty (Q_reb): {Q_reb}\" if Q_reb else \"Q_reb is unknown\")\n",
        "    print(f\"Condenser Duty (Q_cond): {Q_cond}\" if Q_cond else \"Q_cond is unknown\")\n",
        "    print(f\"Heat Lost to Environment (Q_lost): {Q_lost}\" if Q_lost else \"Q_lost is unknown\")\n",
        "\n",
        "    if energy_balance == 0:\n",
        "        print(\"\\nEnergy balance is satisfied.\")\n",
        "    else:\n",
        "        print(f\"\\nEnergy imbalance detected: {energy_balance} (Check input values or solve for unknowns)\")\n",
        "\n",
        "    return energy_balance  # Returning imbalance value\n",
        "\n",
        "\n"
      ],
      "metadata": {
        "id": "9sXu5GLngpft"
      },
      "execution_count": null,
      "outputs": []
    },
    {
      "cell_type": "code",
      "source": [
        "qin1=445.5/2.205\n",
        "qout1=175.5/2.205\n",
        "qout2=270/2.205\n",
        "qin1, qout1, qout2"
      ],
      "metadata": {
        "colab": {
          "base_uri": "https://localhost:8080/"
        },
        "id": "DkJnoR6BjS5h",
        "outputId": "41cb19df-a83b-42ec-b1eb-2a0df3a3c5c2"
      },
      "execution_count": null,
      "outputs": [
        {
          "output_type": "execute_result",
          "data": {
            "text/plain": [
              "(202.0408163265306, 79.59183673469387, 122.44897959183673)"
            ]
          },
          "metadata": {},
          "execution_count": 2
        }
      ]
    },
    {
      "cell_type": "code",
      "source": [
        "Distillation_Column_Energy_Balance([202.04], [17e3], [79.59, 122.44], [13420, 15840], None, 273e5, 0)"
      ],
      "metadata": {
        "colab": {
          "base_uri": "https://localhost:8080/"
        },
        "id": "HTrUtSw9mJyI",
        "outputId": "2d846577-37d7-4f01-c2fe-abc0d787c8f7"
      },
      "execution_count": null,
      "outputs": [
        {
          "output_type": "stream",
          "name": "stdout",
          "text": [
            "\n",
            "--- Energy Balance Summary ---\n",
            "Total Enthalpy In: 3434680.0\n",
            "Total Enthalpy Out: 3007547.4\n",
            "Q_reb is unknown\n",
            "Condenser Duty (Q_cond): 27300000.0\n",
            "Q_lost is unknown\n",
            "\n",
            "Energy imbalance detected: -26872867.4 (Check input values or solve for unknowns)\n"
          ]
        },
        {
          "output_type": "execute_result",
          "data": {
            "text/plain": [
              "-26872867.4"
            ]
          },
          "metadata": {},
          "execution_count": 3
        }
      ]
    },
    {
      "cell_type": "markdown",
      "source": [
        "**Irreversible Entropy Production Calculation and Example from GT 1b**"
      ],
      "metadata": {
        "id": "smH_CRJ7JZsA"
      }
    },
    {
      "cell_type": "code",
      "source": [
        "from typing import List, Optional\n",
        "\n",
        "def dS_irr(\n",
        "    q_in: List[Optional[float]],\n",
        "    s_in: List[Optional[float]],\n",
        "    q_out: List[Optional[float]],\n",
        "    s_out: List[Optional[float]],\n",
        "    Q_reb: float,\n",
        "    Q_cond: float,\n",
        "    T_reb_steam: float,\n",
        "    T_cond_cw: float\n",
        ") -> float:\n",
        "    \"\"\"\n",
        "    Calculates the irreversible entropy generation (dS_irr) for a separation process.\n",
        "\n",
        "    Parameters\n",
        "    ----------\n",
        "    q_in : List[Optional[float]]\n",
        "        Mass flow rates of inlet streams.\n",
        "    s_in : List[Optional[float]]\n",
        "        Entropy values of inlet streams.\n",
        "    q_out : List[Optional[float]]\n",
        "        Mass flow rates of outlet streams.\n",
        "    s_out : List[Optional[float]]\n",
        "        Entropy values of outlet streams.\n",
        "    Q_reb : float\n",
        "        Heat added to the reboiler (Joules).\n",
        "    Q_cond : float\n",
        "        Heat removed by the condenser (Joules).\n",
        "    T_reb_steam : float\n",
        "        Temperature of steam in the reboiler (Kelvin).\n",
        "    T_cond_cw : float\n",
        "        Temperature of cooling water in the condenser (Kelvin).\n",
        "\n",
        "    Returns\n",
        "    -------\n",
        "    float\n",
        "        Irreversible entropy generation (dS_irr) in J/K.\n",
        "    \"\"\"\n",
        "\n",
        "    # Compute entropy contribution from streams\n",
        "    S_in = sum(q * s for q, s in zip(q_in, s_in))\n",
        "    S_out = sum(q * s for q, s in zip(q_out, s_out))\n",
        "\n",
        "    # Compute heat transfer contributions\n",
        "    dS_Q_reb = Q_reb / T_reb_steam\n",
        "    dS_Q_cond = Q_cond / T_cond_cw\n",
        "\n",
        "    # Compute entropy generation\n",
        "    dS_irr = S_out + dS_Q_cond - S_in - dS_Q_reb\n",
        "\n",
        "    return dS_irr\n"
      ],
      "metadata": {
        "id": "v8lfLZp4GnVy"
      },
      "execution_count": null,
      "outputs": []
    },
    {
      "cell_type": "code",
      "source": [
        "dS_irr([202.04], [25.05], [79.59, 122.45], [5.87, 21.22], 26872867.4, 273e5, 373.15, 298.15)"
      ],
      "metadata": {
        "colab": {
          "base_uri": "https://localhost:8080/"
        },
        "id": "hq7BO0FlJYPu",
        "outputId": "1b71d746-6f4d-4a99-8636-1d7dcbdb6d64"
      },
      "execution_count": null,
      "outputs": [
        {
          "output_type": "execute_result",
          "data": {
            "text/plain": [
              "17552.86901769633"
            ]
          },
          "metadata": {},
          "execution_count": 9
        }
      ]
    },
    {
      "cell_type": "markdown",
      "source": [
        "**Lost Work Calculation**"
      ],
      "metadata": {
        "id": "FsiKCBdhMImD"
      }
    },
    {
      "cell_type": "code",
      "source": [
        "from typing import List, Optional, Callable\n",
        "\n",
        "def lost_work(\n",
        "    T0: float,\n",
        "    dS_irr_function: Callable[..., float],\n",
        "    *args, **kwargs\n",
        ") -> float:\n",
        "    \"\"\"Computes lost work as T0 * dS_irr.\"\"\"\n",
        "    return T0 * dS_irr_function(*args, **kwargs)"
      ],
      "metadata": {
        "id": "gGzWkePIK801"
      },
      "execution_count": null,
      "outputs": []
    },
    {
      "cell_type": "code",
      "source": [
        "lost_work(\n",
        "    298.15,\n",
        "    dS_irr,\n",
        "    q_in=[202.04],\n",
        "    s_in=[25.05],\n",
        "    q_out=[79.59, 122.45],\n",
        "    s_out=[5.87, 21.22],\n",
        "    Q_reb=26872867.4,\n",
        "    Q_cond=273e5,\n",
        "    T_reb_steam=373.15,\n",
        "    T_cond_cw=298.15\n",
        ")"
      ],
      "metadata": {
        "colab": {
          "base_uri": "https://localhost:8080/"
        },
        "id": "sZ237GhhMsXI",
        "outputId": "7fb8eca1-8524-4f1a-808e-9fc77f0e078f"
      },
      "execution_count": null,
      "outputs": [
        {
          "output_type": "execute_result",
          "data": {
            "text/plain": [
              "5233387.89762616"
            ]
          },
          "metadata": {},
          "execution_count": 19
        }
      ]
    },
    {
      "cell_type": "markdown",
      "source": [
        "**Minimum Work of Separation (Full Analysis)**"
      ],
      "metadata": {
        "id": "qxAOqvZgOwiV"
      }
    },
    {
      "cell_type": "code",
      "source": [
        "from typing import List, Optional\n",
        "\n",
        "def distillation_analysis(\n",
        "    q_in: List[Optional[float]],\n",
        "    s_in: List[Optional[float]],\n",
        "    q_out: List[Optional[float]],\n",
        "    s_out: List[Optional[float]],\n",
        "    Q_reb: float,\n",
        "    Q_cond: float,\n",
        "    T_reb_steam: float,\n",
        "    T_cond_cw: float,\n",
        "    T0: float\n",
        "):\n",
        "    \"\"\"\n",
        "    Performs entropy generation, lost work, and minimum work calculations\n",
        "    for a distillation column.\n",
        "\n",
        "    Parameters:\n",
        "    - q_in: List of mass flow rates for feed streams (kg/s)\n",
        "    - s_in: List of specific entropies for feed streams (J/kg·K)\n",
        "    - q_out: List of mass flow rates for product streams (kg/s)\n",
        "    - s_out: List of specific entropies for product streams (J/kg·K)\n",
        "    - Q_reb: Heat input to the reboiler (J)\n",
        "    - Q_cond: Heat removed in the condenser (J)\n",
        "    - T_reb_steam: Steam temperature in the reboiler (K)\n",
        "    - T_cond_cw: Cooling water temperature in the condenser (K)\n",
        "    - T0: Ambient temperature (K)\n",
        "\n",
        "    Returns:\n",
        "    - Prints values of entropy generation (S_irr), lost work (LW), and minimum work (W_min)\n",
        "    \"\"\"\n",
        "\n",
        "    # Step 1: Calculate entropy generation (S_irr)\n",
        "    S_in = sum(q * s for q, s in zip(q_in, s_in))\n",
        "    S_out = sum(q * s for q, s in zip(q_out, s_out))\n",
        "    dS_Q_reb = Q_reb / T_reb_steam\n",
        "    dS_Q_cond = Q_cond / T_cond_cw\n",
        "    S_irr = S_out + dS_Q_cond - S_in - dS_Q_reb\n",
        "\n",
        "    # Step 2: Compute lost work (LW)\n",
        "    LW = T0 * S_irr\n",
        "\n",
        "    # Step 3: Compute minimum work (W_min)\n",
        "    W_min = Q_reb * (1 - T0 / T_reb_steam) - Q_cond * (1 - T0 / T_cond_cw) - LW\n",
        "\n",
        "    # Print results\n",
        "    print(\"\\n--- Distillation Column Analysis ---\")\n",
        "    print(f\"Entropy Generation (S_irr): {S_irr:.2f} J/K\")\n",
        "    print(f\"Lost Work (LW): {LW:.2f} J\")\n",
        "    print(f\"Minimum Work (W_min): {W_min:.2f} J\")\n",
        "\n",
        "    return W_min  # Returning for potential further use\n",
        "\n",
        "# Example Calculation\n",
        "T0 = 298.15  # Surrounding temperature (K)\n",
        "Q_reb = 26872867.4  # Joules\n",
        "Q_cond = 273e5  # Joules\n",
        "T_reb_steam = 373.15  # Kelvin\n",
        "T_cond_cw = 298.15  # Kelvin\n",
        "\n",
        "# Call function\n",
        "distillation_analysis(\n",
        "    q_in=[202.04],\n",
        "    s_in=[25.05],\n",
        "    q_out=[79.59, 122.45],\n",
        "    s_out=[5.87, 21.22],\n",
        "    Q_reb=Q_reb,\n",
        "    Q_cond=Q_cond,\n",
        "    T_reb_steam=T_reb_steam,\n",
        "    T_cond_cw=T_cond_cw,\n",
        "    T0=T0\n",
        ")\n"
      ],
      "metadata": {
        "colab": {
          "base_uri": "https://localhost:8080/"
        },
        "id": "nVKeL_IBObgG",
        "outputId": "c8f3e0c5-702d-40ce-eab2-f03280b0d347"
      },
      "execution_count": null,
      "outputs": [
        {
          "output_type": "stream",
          "name": "stdout",
          "text": [
            "\n",
            "--- Distillation Column Analysis ---\n",
            "Entropy Generation (S_irr): 17552.87 J/K\n",
            "Lost Work (LW): 5233387.90 J\n",
            "Minimum Work (W_min): 167831.60 J\n"
          ]
        },
        {
          "output_type": "execute_result",
          "data": {
            "text/plain": [
              "167831.59855499957"
            ]
          },
          "metadata": {},
          "execution_count": 37
        }
      ]
    },
    {
      "cell_type": "markdown",
      "source": [
        "**Full Analysis with Efficiency calculation and Example!!**"
      ],
      "metadata": {
        "id": "xT_FsuAqSJBg"
      }
    },
    {
      "cell_type": "code",
      "source": [
        "from typing import List, Optional\n",
        "\n",
        "def distillation_analysis(\n",
        "    q_in: List[Optional[float]],\n",
        "    s_in: List[Optional[float]],\n",
        "    q_out: List[Optional[float]],\n",
        "    s_out: List[Optional[float]],\n",
        "    Q_reb: float,\n",
        "    Q_cond: float,\n",
        "    T_reb_steam: float,\n",
        "    T_cond_cw: float,\n",
        "    T0: float\n",
        "):\n",
        "    \"\"\"\n",
        "    Performs entropy generation, lost work, minimum work, and thermodynamic efficiency\n",
        "    calculations for a distillation column.\n",
        "\n",
        "    Parameters:\n",
        "    - q_in: List of mass flow rates for feed streams (kg/s)\n",
        "    - s_in: List of specific entropies for feed streams (J/kg·K)\n",
        "    - q_out: List of mass flow rates for product streams (kg/s)\n",
        "    - s_out: List of specific entropies for product streams (J/kg·K)\n",
        "    - Q_reb: Heat input to the reboiler (J)\n",
        "    - Q_cond: Heat removed in the condenser (J)\n",
        "    - T_reb_steam: Steam temperature in the reboiler (K)\n",
        "    - T_cond_cw: Cooling water temperature in the condenser (K)\n",
        "    - T0: Ambient temperature (K)\n",
        "\n",
        "    Returns:\n",
        "    - Prints values of entropy generation (S_irr), lost work (LW), minimum work (W_min), and thermodynamic efficiency\n",
        "    \"\"\"\n",
        "\n",
        "    # Step 1: Calculate entropy generation (S_irr)\n",
        "    S_in = sum(q * s for q, s in zip(q_in, s_in))\n",
        "    S_out = sum(q * s for q, s in zip(q_out, s_out))\n",
        "    dS_Q_reb = Q_reb / T_reb_steam\n",
        "    dS_Q_cond = Q_cond / T_cond_cw\n",
        "    S_irr = S_out + dS_Q_cond - S_in - dS_Q_reb\n",
        "\n",
        "    # Step 2: Compute lost work (LW)\n",
        "    LW = T0 * S_irr\n",
        "\n",
        "    # Step 3: Compute minimum work (W_min)\n",
        "    W_min = Q_reb * (1 - T0 / T_reb_steam) - Q_cond * (1 - T0 / T_cond_cw) - LW\n",
        "\n",
        "    # Step 4: Calculate thermodynamic efficiency as W_min / (W_min + LW)\n",
        "    if W_min + LW != 0:  # Avoid division by zero\n",
        "        efficiency = W_min / (W_min + LW)\n",
        "    else:\n",
        "        efficiency = 0  # If W_min + LW is zero, efficiency is undefined\n",
        "\n",
        "    # Print results\n",
        "    print(\"\\n--- Distillation Column Analysis ---\")\n",
        "    print(f\"Entropy Generation (S_irr): {S_irr:.2f} J/K\")\n",
        "    print(f\"Lost Work (LW): {LW:.2f} J\")\n",
        "    print(f\"Minimum Work (W_min): {W_min:.2f} J\")\n",
        "    print(f\"Thermodynamic Efficiency: {efficiency:.4f}\")\n",
        "\n",
        "    return W_min, efficiency  # Returning for potential further use\n",
        "\n",
        "# Example Calculation\n",
        "T0 = 298.15  # Surrounding temperature (K)\n",
        "Q_reb = 26872867.4  # Joules\n",
        "Q_cond = 273e5  # Joules\n",
        "T_reb_steam = 373.15  # Kelvin\n",
        "T_cond_cw = 298.15  # Kelvin\n",
        "\n",
        "# Call function\n",
        "distillation_analysis(\n",
        "    q_in=[202.04],\n",
        "    s_in=[25.05],\n",
        "    q_out=[79.59, 122.45],\n",
        "    s_out=[5.87, 21.22],\n",
        "    Q_reb=Q_reb,\n",
        "    Q_cond=Q_cond,\n",
        "    T_reb_steam=T_reb_steam,\n",
        "    T_cond_cw=T_cond_cw,\n",
        "    T0=T0\n",
        ")\n"
      ],
      "metadata": {
        "colab": {
          "base_uri": "https://localhost:8080/"
        },
        "id": "Tqdw_CPcRhzW",
        "outputId": "307089db-cf1b-4880-b35b-746b2f2ea2c8"
      },
      "execution_count": null,
      "outputs": [
        {
          "output_type": "stream",
          "name": "stdout",
          "text": [
            "\n",
            "--- Distillation Column Analysis ---\n",
            "Entropy Generation (S_irr): 17552.87 J/K\n",
            "Lost Work (LW): 5233387.90 J\n",
            "Minimum Work (W_min): 167831.60 J\n",
            "Thermodynamic Efficiency: 0.0311\n"
          ]
        },
        {
          "output_type": "execute_result",
          "data": {
            "text/plain": [
              "(167831.59855499957, 0.03107290838183156)"
            ]
          },
          "metadata": {},
          "execution_count": 40
        }
      ]
    },
    {
      "cell_type": "code",
      "source": [],
      "metadata": {
        "id": "PzQDEu8oSGh5"
      },
      "execution_count": null,
      "outputs": []
    }
  ]
}